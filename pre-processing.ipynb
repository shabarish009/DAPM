import pandas as pd
from sklearn.impute import SimpleImputer
from sklearn.preprocessing import StandardScaler

# Load the dataset
file_path = r'C:\Users\asus\Desktop\Assignment\Second Assignment\Mod Global Economy Indicator 1.xlsx'  # Replace with the path to your dataset
data = pd.read_excel(file_path)

# Define the relevant columns as per your specifications
relevant_columns = [
    'Country', 'Year',
    'Agriculture, hunting, forestry, fishing (ISIC A-B)', 'Construction (ISIC F)',
    'Exports of goods and services', 'Imports of goods and services',
    'Manufacturing (ISIC D)', 'Mining, Manufacturing, Utilities (ISIC C-E)',
    'Other Activities (ISIC J-P)', 'Transport, storage and communication (ISIC I)',
    'Wholesale, retail trade, restaurants and hotels (ISIC G-H)',
    'Gross National Income(GNI) in USD', 'Gross Domestic Product (GDP)',
    'Trade Balance', 'Sectoral Output'
]

# Keep only relevant columns
data = data[relevant_columns]

# Handle missing values with mean imputation for numerical columns
imputer = SimpleImputer(strategy='mean')
data_numeric = data.select_dtypes(include=['float64', 'int64'])
data[data_numeric.columns] = imputer.fit_transform(data_numeric)

# Standardize the numerical columns
scaler = StandardScaler()
data[data_numeric.columns] = scaler.fit_transform(data_numeric)

# Convert numerical columns to strings and back to numerics to avoid Excel's auto-formatting
for column in data_numeric.columns:
    data[column] = data[column].astype(str).astype(float)

# Export the pre-processed dataset to a new CSV file
output_file_path = r'C:\Users\asus\Desktop\Assignment\Second Assignment\Preprocessed1.csv'  # Replace with your desired output file path
data.to_csv(output_file_path, index=False, float_format='%g')
