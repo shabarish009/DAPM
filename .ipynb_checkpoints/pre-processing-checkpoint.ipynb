{
 "cells": [
  {
   "cell_type": "code",
   "execution_count": 8,
   "metadata": {},
   "outputs": [],
   "source": [
    "# Import necessary libraries\n",
    "import pandas as pd\n",
    "from sklearn.preprocessing import StandardScaler\n",
    "from sklearn.impute import SimpleImputer\n",
    "\n",
    "# Load the dataset\n",
    "file_path = r'C:\\Users\\asus\\Desktop\\Assignment\\Second Assignment\\Mod Global Economy Indicator 1.xlsx'  # Replace with your file path\n",
    "full_data = pd.read_excel(file_path)\n",
    "\n",
    "# Data Cleaning\n",
    "# Handling missing values with mean imputation\n",
    "imputer_full = SimpleImputer(strategy='mean')\n",
    "full_numeric = full_data.select_dtypes(include=['float64', 'int64'])\n",
    "full_imputed = pd.DataFrame(imputer_full.fit_transform(full_numeric))\n",
    "full_imputed.columns = full_numeric.columns\n",
    "full_imputed.index = full_numeric.index\n",
    "\n",
    "# Merging imputed numeric data with non-numeric data\n",
    "full_cleaned = pd.concat([full_data.select_dtypes(exclude=['float64', 'int64']), full_imputed], axis=1)\n",
    "\n",
    "# Data Reduction\n",
    "# Removing less relevant columns for this analysis\n",
    "full_reduced = full_cleaned.drop(columns=['CountryID'], axis=1)\n",
    "\n",
    "# Data Transformation\n",
    "# Normalizing numerical features\n",
    "scaler_full = StandardScaler()\n",
    "full_scaled = pd.DataFrame(scaler_full.fit_transform(full_reduced.select_dtypes(include=['float64', 'int64'])))\n",
    "full_scaled.columns = full_reduced.select_dtypes(include=['float64', 'int64']).columns\n",
    "full_scaled.index = full_reduced.index\n",
    "\n",
    "# Data Discretization\n",
    "# Discretizing the 'Year' variable into decades\n",
    "full_transformed = full_reduced.copy()\n",
    "full_transformed['Year'] = pd.cut(full_transformed['Year'], bins=[1969, 1980, 1990, 2000, 2010, 2021], labels=['1970s', '1980s', '1990s', '2000s', '2010s'])\n",
    "\n",
    "# Final pre-processed dataset\n",
    "full_final = pd.concat([full_transformed.select_dtypes(exclude=['float64', 'int64']), full_scaled], axis=1)\n",
    "\n",
    "# Displaying the first few rows of the final dataset\n",
    "full_final.head()\n",
    "\n",
    "# Export the full pre-processed dataset to a CSV file\n",
    "output_file_path = r'C:\\Users\\asus\\Desktop\\Assignment\\Second Assignment\\Preprocessed.csv'  # Replace with your desired output file path\n",
    "full_final.to_csv(output_file_path, index=False)\n"
   ]
  }
 ],
 "metadata": {
  "kernelspec": {
   "display_name": "myenv",
   "language": "python",
   "name": "myenv"
  },
  "language_info": {
   "codemirror_mode": {
    "name": "ipython",
    "version": 3
   },
   "file_extension": ".py",
   "mimetype": "text/x-python",
   "name": "python",
   "nbconvert_exporter": "python",
   "pygments_lexer": "ipython3",
   "version": "3.10.8"
  }
 },
 "nbformat": 4,
 "nbformat_minor": 2
}
