{
 "cells": [
  {
   "cell_type": "code",
   "execution_count": 2,
   "id": "3f21909b-8c2c-4d28-9bab-7cf895d21bb2",
   "metadata": {},
   "outputs": [
    {
     "name": "stdout",
     "output_type": "stream",
     "text": [
      "Pre-processed file saved\n"
     ]
    }
   ],
   "source": [
    "import pandas as pd\n",
    "from sklearn.impute import SimpleImputer\n",
    "from sklearn.preprocessing import StandardScaler\n",
    "\n",
    "# Load the dataset\n",
    "file_path = r'C:\\Users\\asus\\Desktop\\Assignment\\Second Assignment\\Mod Global Economy Indicator 1.xlsx'  # Replace with the path to your dataset\n",
    "data = pd.read_excel(file_path)\n",
    "\n",
    "# Define the relevant columns as per your specifications\n",
    "relevant_columns = [\n",
    "    'Country', 'Year',\n",
    "    'Agriculture, hunting, forestry, fishing (ISIC A-B)', 'Construction (ISIC F)',\n",
    "    'Exports of goods and services', 'Imports of goods and services',\n",
    "    'Manufacturing (ISIC D)', 'Mining, Manufacturing, Utilities (ISIC C-E)',\n",
    "    'Other Activities (ISIC J-P)', 'Transport, storage and communication (ISIC I)',\n",
    "    'Wholesale, retail trade, restaurants and hotels (ISIC G-H)',\n",
    "    'Gross National Income(GNI) in USD', 'Gross Domestic Product (GDP)',\n",
    "    'Trade Balance', 'Sectoral Output'\n",
    "]\n",
    "\n",
    "# Keep only relevant columns\n",
    "data = data[relevant_columns]\n",
    "\n",
    "# Handle missing values with mean imputation for numerical columns\n",
    "imputer = SimpleImputer(strategy='mean')\n",
    "data_numeric = data.select_dtypes(include=['float64', 'int64'])\n",
    "data[data_numeric.columns] = imputer.fit_transform(data_numeric)\n",
    "\n",
    "# Standardize the numerical columns\n",
    "scaler = StandardScaler()\n",
    "data[data_numeric.columns] = scaler.fit_transform(data_numeric)\n",
    "\n",
    "# Convert numerical columns to strings and back to numerics to avoid Excel's auto-formatting\n",
    "for column in data_numeric.columns:\n",
    "    data[column] = data[column].astype(str).astype(float)\n",
    "\n",
    "# Export the pre-processed dataset to a new CSV file\n",
    "output_file_path = r'C:\\Users\\asus\\Desktop\\Assignment\\Second Assignment\\Preprocessed1.csv'  # Replace with your desired output file path\n",
    "data.to_csv(output_file_path, index=False, float_format='%g')\n",
    "print(\"Pre-processed file saved\")"
   ]
  }
 ],
 "metadata": {
  "kernelspec": {
   "display_name": "Python 3 (ipykernel)",
   "language": "python",
   "name": "python3"
  },
  "language_info": {
   "codemirror_mode": {
    "name": "ipython",
    "version": 3
   },
   "file_extension": ".py",
   "mimetype": "text/x-python",
   "name": "python",
   "nbconvert_exporter": "python",
   "pygments_lexer": "ipython3",
   "version": "3.10.8"
  }
 },
 "nbformat": 4,
 "nbformat_minor": 5
}
